{
  "nbformat": 4,
  "nbformat_minor": 0,
  "metadata": {
    "colab": {
      "provenance": [],
      "authorship_tag": "ABX9TyPefxfKn4O3Ht9VcoKDsQlz",
      "include_colab_link": true
    },
    "kernelspec": {
      "name": "python3",
      "display_name": "Python 3"
    },
    "language_info": {
      "name": "python"
    }
  },
  "cells": [
    {
      "cell_type": "markdown",
      "metadata": {
        "id": "view-in-github",
        "colab_type": "text"
      },
      "source": [
        "<a href=\"https://colab.research.google.com/github/krishashejwal/python/blob/main/exp5.ipynb\" target=\"_parent\"><img src=\"https://colab.research.google.com/assets/colab-badge.svg\" alt=\"Open In Colab\"/></a>"
      ]
    },
    {
      "cell_type": "code",
      "execution_count": 44,
      "metadata": {
        "colab": {
          "base_uri": "https://localhost:8080/"
        },
        "id": "dNL7dgKp_rPe",
        "outputId": "2afaa941-47fd-4f99-ae88-85442c0a8709"
      },
      "outputs": [
        {
          "output_type": "stream",
          "name": "stdout",
          "text": [
            "3\n",
            "5\n",
            "6\n"
          ]
        }
      ],
      "source": [
        "class string:\n",
        "    def nesting_depth(stringInput):\n",
        "       depth = 0\n",
        "       max_depth = 0\n",
        "\n",
        "       for char in stringInput:\n",
        "          if char == '(':\n",
        "            depth += 1\n",
        "            max_depth = max(max_depth, depth)\n",
        "          elif char == ')':\n",
        "            depth -= 1\n",
        "\n",
        "       return max_depth\n",
        "S=string\n",
        "# Example usage:\n",
        "s1= \"()  ( ( ))  ( ( ()()))\"\n",
        "print(S.nesting_depth(s1))  # Output: 2\n",
        "\n",
        "stringInput =\"(1+((2*3))+((((8)/4))+1))(((()))\"\n",
        "print(nesting_depth(stringInput))\n",
        "\n",
        "stringInput=\"( 4+5  (  ( ( ( 3-4 ) ( ( ) ) ) )\"\n",
        "print(nesting_depth(stringInput))\n"
      ]
    }
  ]
}