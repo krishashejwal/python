{
  "nbformat": 4,
  "nbformat_minor": 0,
  "metadata": {
    "colab": {
      "provenance": []
    },
    "kernelspec": {
      "name": "python3",
      "display_name": "Python 3"
    },
    "language_info": {
      "name": "python"
    }
  },
  "cells": [
    {
      "cell_type": "markdown",
      "source": [
        "NAME:SAMIKSHA KIRAN SHEJWAL                               ROLL_NO:69   \n",
        "                                                         CLASS:SE3-S3"
      ],
      "metadata": {
        "id": "l6y2q3YZhbzi"
      }
    },
    {
      "cell_type": "code",
      "execution_count": 1,
      "metadata": {
        "colab": {
          "base_uri": "https://localhost:8080/"
        },
        "id": "9KwcxeJuhagw",
        "outputId": "1d940736-40f7-4f29-b526-71059efe3130"
      },
      "outputs": [
        {
          "output_type": "stream",
          "name": "stdout",
          "text": [
            "2025-02-10 15:45:32 Net_Module Connection timeout  from 192.168.1.10 Error Code: 0xAB12CD34\n",
            "2025-02-10 17:12:05 Security_Module Unauthorized access detected  from 10.0.0.5 Error Code: 0xDEADBEEF\n"
          ]
        }
      ],
      "source": [
        "import re\n",
        "\n",
        "def extract_critical_errors(log_data: str) -> None:\n",
        "    # Define the regex pattern to match critical errors\n",
        "    pattern = (\n",
        "        r'\\[([\\d-]+ [\\d:]+)\\] \\[ERROR\\] \\[([a-zA-Z0-9_]+)\\] '\n",
        "        r'(.*?)(?:from\\s+((?:25[0-5]|2[0-4][0-9]|1?[0-9][0-9]?)\\.'\n",
        "        r'(?:25[0-5]|2[0-4][0-9]|1?[0-9][0-9]?)\\.'\n",
        "        r'(?:25[0-5]|2[0-4][0-9]|1?[0-9][0-9]?)\\.'\n",
        "        r'(?:25[0-5]|2[0-4][0-9]|1?[0-9][0-9]?))\\.\\s*Error Code:\\s*(0x[0-9A-Fa-f]{8}))'\n",
        "    )\n",
        "\n",
        "    matches = re.findall(pattern, log_data)\n",
        "    for match in matches:\n",
        "        # Print each match in the desired format\n",
        "        print(f\"{match[0]} {match[1]} {match[2]} from {match[3]} Error Code: {match[4]}\")\n",
        "\n",
        "log_data = \"\"\"[2025-02-10 15:45:32] [ERROR] [Net_Module] Connection timeout from 192.168.1.10. Error Code: 0xAB12CD34\n",
        "[2025-02-10 17:12:05] [ERROR] [Security_Module] Unauthorized access detected from 10.0.0.5. Error Code: 0xDEADBEEF\n",
        "[2025-02-10 18:30:12] [WARNING] [Other_Module] Non-critical issue detected.\n",
        "[2025-02-10 19:00:00] [ERROR] [Net_Module] Connection lost from 256.100.10.10. Error Code: 0x12345678\"\"\"\n",
        "\n",
        "extract_critical_errors(log_data)"
      ]
    }
  ]
}