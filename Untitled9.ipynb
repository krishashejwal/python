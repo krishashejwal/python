{
  "nbformat": 4,
  "nbformat_minor": 0,
  "metadata": {
    "colab": {
      "provenance": [],
      "authorship_tag": "ABX9TyPDyXNoVh3wZuQnFRK2yJ3m",
      "include_colab_link": true
    },
    "kernelspec": {
      "name": "python3",
      "display_name": "Python 3"
    },
    "language_info": {
      "name": "python"
    }
  },
  "cells": [
    {
      "cell_type": "markdown",
      "metadata": {
        "id": "view-in-github",
        "colab_type": "text"
      },
      "source": [
        "<a href=\"https://colab.research.google.com/github/krishashejwal/python/blob/main/Untitled9.ipynb\" target=\"_parent\"><img src=\"https://colab.research.google.com/assets/colab-badge.svg\" alt=\"Open In Colab\"/></a>"
      ]
    },
    {
      "cell_type": "code",
      "source": [
        "Name:samiksha kiran shejwal                Roll_no:69"
      ],
      "metadata": {
        "id": "yeE5Y2cAHPSQ"
      },
      "execution_count": null,
      "outputs": []
    },
    {
      "cell_type": "code",
      "execution_count": 1,
      "metadata": {
        "colab": {
          "base_uri": "https://localhost:8080/"
        },
        "id": "yHviV7sWHFFT",
        "outputId": "ad38845e-0d7b-4e6d-f62a-1a5e5fbe4814"
      },
      "outputs": [
        {
          "output_type": "stream",
          "name": "stdout",
          "text": [
            "Number at the beginning : [0.0, 100.0, 200.0]\n",
            "Value in the end : [2000.0, 2100.0, 2200.0]\n"
          ]
        }
      ],
      "source": [
        "from multiprocessing import Process, Array, Lock\n",
        "from time import sleep\n",
        "\n",
        "def addThousands(inputNumber, lock):\n",
        "    for _ in range(1000):\n",
        "        sleep(0.01)\n",
        "        with lock:\n",
        "            for i in range(len(inputNumber)):\n",
        "                inputNumber[i] += 1\n",
        "\n",
        "if __name__ == '__main__':\n",
        "    sharedArray = Array('d', [0.0, 100.0, 200.0])\n",
        "    lock = Lock()\n",
        "\n",
        "    print(f'Number at the beginning : {sharedArray[:]}')\n",
        "\n",
        "    firstProcess = Process(target=addThousands, args=(sharedArray, lock))\n",
        "    secondProcess = Process(target=addThousands, args=(sharedArray, lock))\n",
        "\n",
        "    firstProcess.start()\n",
        "    secondProcess.start()\n",
        "\n",
        "    firstProcess.join()\n",
        "    secondProcess.join()\n",
        "\n",
        "    print(f'Value in the end : {sharedArray[:]}')"
      ]
    }
  ]
}