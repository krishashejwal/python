{
 "cells": [
  {
   "cell_type": "markdown",
   "metadata": {},
   "source": [
    "### NAME:samiksha kiran shejwal  roll_no:69 "
   ]
  },
  {
   "cell_type": "code",
   "execution_count": 1,
   "metadata": {},
   "outputs": [],
   "source": [
    "import threading \n"
   ]
  },
  {
   "cell_type": "code",
   "execution_count": 2,
   "metadata": {},
   "outputs": [],
   "source": [
    "import time "
   ]
  },
  {
   "cell_type": "code",
   "execution_count": 6,
   "metadata": {},
   "outputs": [
    {
     "name": "stdout",
     "output_type": "stream",
     "text": [
      "Thread 1 - Number: 1\n",
      "Thread 1 - Number: 2\n",
      "Thread 1 - Number: 3\n",
      "Thread 1 - Number: 4\n",
      "Thread 1 - Number: 5\n"
     ]
    }
   ],
   "source": [
    "def print_numbers():\n",
    "   \n",
    "  for i in range(1, 6):\n",
    "   print(f\"Thread 1 - Number: {i}\")\n",
    "   time.sleep(1)\n",
    "thread1 = threading.Thread(target=print_numbers)\n",
    "thread1.start()\n",
    "thread1.join() "
   ]
  },
  {
   "cell_type": "code",
   "execution_count": 7,
   "metadata": {},
   "outputs": [
    {
     "name": "stdout",
     "output_type": "stream",
     "text": [
      "Thread 2 - Letter: A\n",
      "Thread 2 - Letter: B\n",
      "Thread 2 - Letter: C\n",
      "Thread 2 - Letter: D\n",
      "Thread 2 - Letter: E\n"
     ]
    }
   ],
   "source": [
    "def print_letters():\n",
    "\n",
    "  for letter in 'ABCDE':\n",
    "    print(f\"Thread 2 - Letter: {letter}\")\n",
    "    time.sleep(1)\n",
    "thread2 = threading.Thread(target=print_letters)\n",
    "thread2.start()\n",
    "thread2.join()"
   ]
  },
  {
   "cell_type": "code",
   "execution_count": 8,
   "metadata": {},
   "outputs": [
    {
     "name": "stdout",
     "output_type": "stream",
     "text": [
      "Thread 3 - Square of 1: 1\n",
      "Thread 3 - Square of 2: 4\n",
      "Thread 3 - Square of 3: 9\n",
      "Thread 3 - Square of 4: 16\n",
      "Thread 3 - Square of 5: 25\n"
     ]
    }
   ],
   "source": [
    "def print_squares():\n",
    "  for i in range(1, 6):\n",
    "    print(f\"Thread 3 - Square of {i}: {i ** 2}\")\n",
    "    time.sleep(1)\n",
    "thread3 = threading.Thread(target=print_squares)\n",
    "thread3.start()\n",
    "thread3.join()"
   ]
  },
  {
   "cell_type": "code",
   "execution_count": 9,
   "metadata": {},
   "outputs": [
    {
     "name": "stdout",
     "output_type": "stream",
     "text": [
      "All threads have finished executing.\n"
     ]
    }
   ],
   "source": [
    "print(\"All threads have finished executing.\")"
   ]
  }
 ],
 "metadata": {
  "kernelspec": {
   "display_name": "Python 3",
   "language": "python",
   "name": "python3"
  },
  "language_info": {
   "codemirror_mode": {
    "name": "ipython",
    "version": 3
   },
   "file_extension": ".py",
   "mimetype": "text/x-python",
   "name": "python",
   "nbconvert_exporter": "python",
   "pygments_lexer": "ipython3",
   "version": "3.11.9"
  }
 },
 "nbformat": 4,
 "nbformat_minor": 2
}
