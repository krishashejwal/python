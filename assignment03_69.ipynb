{
  "nbformat": 4,
  "nbformat_minor": 0,
  "metadata": {
    "colab": {
      "provenance": []
    },
    "kernelspec": {
      "name": "python3",
      "display_name": "Python 3"
    },
    "language_info": {
      "name": "python"
    }
  },
  "cells": [
    {
      "cell_type": "markdown",
      "source": [
        "NAME:SAMIKSHA KIRAN SHEJWAL                                     ROLL_NO:69"
      ],
      "metadata": {
        "id": "1bQvPXTzPYxz"
      }
    },
    {
      "cell_type": "code",
      "execution_count": 1,
      "metadata": {
        "colab": {
          "base_uri": "https://localhost:8080/"
        },
        "id": "TTiudhzcOdQb",
        "outputId": "bb5ebacb-dd98-4410-b3d1-c094d3c35ea1"
      },
      "outputs": [
        {
          "output_type": "stream",
          "name": "stdout",
          "text": [
            "1 2 3 4 5 \n",
            "4 5 1 2 3 \n"
          ]
        }
      ],
      "source": [
        "class LL:\n",
        "    def __init__(self):\n",
        "        self.head = None\n",
        "        self.tail = None\n",
        "\n",
        "    class Node:\n",
        "        def __init__(self, value):\n",
        "            self.value = value\n",
        "            self.next = None\n",
        "\n",
        "    def insertNode(self, value):\n",
        "        new_node = self.Node(value)\n",
        "        if self.head is None:\n",
        "            self.head = new_node\n",
        "            self.tail = new_node\n",
        "            return\n",
        "        self.tail.next = new_node\n",
        "        self.tail = new_node\n",
        "\n",
        "    def printLL(self):\n",
        "        cnode = self.head\n",
        "        while cnode:\n",
        "            print(cnode.value, end=\" \")\n",
        "            cnode = cnode.next\n",
        "        print()\n",
        "\n",
        "    def rotateLL(self, k):\n",
        "        if not self.head or k == 0:\n",
        "            return\n",
        "\n",
        "        length = 1\n",
        "        temp = self.head\n",
        "        while temp.next:\n",
        "            temp = temp.next\n",
        "            length += 1\n",
        "\n",
        "        k = k % length\n",
        "        if k == 0:\n",
        "            return\n",
        "\n",
        "        prev = None\n",
        "        new_tail = self.head\n",
        "        for _ in range(length - k):\n",
        "            prev = new_tail\n",
        "            new_tail = new_tail.next\n",
        "\n",
        "        prev.next = None\n",
        "        temp.next = self.head\n",
        "        self.head = new_tail\n",
        "        self.tail = prev\n",
        "\n",
        "list_values = [1, 2, 3, 4, 5]\n",
        "ll = LL()\n",
        "for i in list_values:\n",
        "    ll.insertNode(i)\n",
        "\n",
        "ll.printLL()\n",
        "ll.rotateLL(2)\n",
        "ll.printLL()"
      ]
    }
  ]
}