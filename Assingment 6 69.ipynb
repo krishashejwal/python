
  {
   "cell_type": "markdown",
   "metadata": {},
   "source": [
    "### NAME:SAMIKSHA KIRAN SHEJWAL    ROLL_NO:69"
   ]
  },
  {
   "cell_type": "code",
   "execution_count": 1,
   "metadata": {},
   "outputs": [],
   "source": [
    "import pandas as pd"
   ]
  },
  {
   "cell_type": "code",
   "execution_count": 2,
   "metadata": {},
   "outputs": [
    {
     "name": "stdout",
     "output_type": "stream",
     "text": [
      "First two rows:\n",
      "    Name  Age  Salary Department\n",
      "0   John   25   50000         HR\n",
      "1  Alice   30   70000         IT\n",
      "\n",
      "Last two rows:\n",
      "    Name  Age  Salary Department\n",
      "3  Carol   28   65000  Marketing\n",
      "4  David   40   80000         IT\n",
      "\n",
      "Salary Mean: 65000.0\n",
      "Salary Standard Deviation: 11180.339887498949\n",
      "\n",
      "Employees older than 30 in IT department:\n",
      "    Name  Age  Salary Department\n",
      "4  David   40   80000         IT\n",
      "\n",
      "DataFrame with Bonus column:\n",
      "    Name  Age  Salary Department   Bonus\n",
      "0   John   25   50000         HR  5000.0\n",
      "1  Alice   30   70000         IT  7000.0\n",
      "2    Bob   35   60000    Finance  6000.0\n",
      "3  Carol   28   65000  Marketing  6500.0\n",
      "4  David   40   80000         IT  8000.0\n"
     ]
    }
   ],
   "source": [
    "\n",
    "\n",
    "# Create the DataFrame\n",
    "data = {\n",
    "    'Name': ['John', 'Alice', 'Bob', 'Carol', 'David'],\n",
    "    'Age': [25, 30, 35, 28, 40],\n",
    "    'Salary': [50000, 70000, 60000, 65000, 80000],\n",
    "    'Department': ['HR', 'IT', 'Finance', 'Marketing', 'IT']\n",
    "}\n",
    "\n",
    "df = pd.DataFrame(data)\n",
    "\n",
    "# Display the first and last two rows\n",
    "print(\"First two rows:\")\n",
    "print(df.head(2))\n",
    "print(\"\\nLast two rows:\")\n",
    "print(df.tail(2))\n",
    "\n",
    "# Retrieve the Salary column and compute mean and standard deviation\n",
    "salary_mean = df['Salary'].mean()\n",
    "salary_std = df['Salary'].std()\n",
    "print(\"\\nSalary Mean:\", salary_mean)\n",
    "print(\"Salary Standard Deviation:\", salary_std)\n",
    "\n",
    "# Filter employees older than 30 and in the IT department\n",
    "filtered_df = df[(df['Age'] > 30) & (df['Department'] == 'IT')]\n",
    "print(\"\\nEmployees older than 30 in IT department:\")\n",
    "print(filtered_df)\n",
    "\n",
    "# Add a new Bonus column (10% of salary)\n",
    "df['Bonus'] = df['Salary'] * 0.10\n",
    "print(\"\\nDataFrame with Bonus column:\")\n",
    "print(df)\n"
   ]
  }
 ],
 "metadata": {
  "kernelspec": {
   "display_name": "Python 3",
   "language": "python",
   "name": "python3"
  },
  "language_info": {
   "codemirror_mode": {
    "name": "ipython",
    "version": 3
   },
   "file_extension": ".py",
   "mimetype": "text/x-python",
   "name": "python",
   "nbconvert_exporter": "python",
   "pygments_lexer": "ipython3",
   "version": "3.12.5"
  }
 },
 "nbformat": 4,
 "nbformat_minor": 2
}
