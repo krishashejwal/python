{
  "cells": [
    {
      "cell_type": "markdown",
      "metadata": {
        "id": "view-in-github",
        "colab_type": "text"
      },
      "source": [
        "<a href=\"https://colab.research.google.com/github/krishashejwal/python/blob/main/EX2_ipynp.ipynb\" target=\"_parent\"><img src=\"https://colab.research.google.com/assets/colab-badge.svg\" alt=\"Open In Colab\"/></a>"
      ]
    },
    {
      "cell_type": "code",
      "execution_count": 2,
      "metadata": {
        "id": "zwFnJsE6vjf8",
        "colab": {
          "base_uri": "https://localhost:8080/"
        },
        "outputId": "562e318b-8fdb-420f-c242-b3e159102fa6"
      },
      "outputs": [
        {
          "output_type": "stream",
          "name": "stdout",
          "text": [
            "Enter a string consisting of 'a' and 'b': aaaaabbbb\n",
            "True - Every 'a' appears before every 'b'.\n"
          ]
        }
      ],
      "source": [
        "\n",
        "\n",
        "\n",
        "def check(s: str) -> bool:\n",
        "    found_b = False\n",
        "\n",
        "    for char in s:\n",
        "        if char == 'b':\n",
        "            found_b = True\n",
        "        elif found_b and char == 'a':\n",
        "            return False\n",
        "\n",
        "    return True\n",
        "\n",
        "\n",
        "s = input(\"Enter a string consisting of 'a' and 'b': \")\n",
        "\n",
        "\n",
        "if check(s):\n",
        "    print(\"True - Every 'a' appears before every 'b'.\")\n",
        "else:\n",
        "    print(\"False - 'a' appears after 'b' in the string.\")"
      ]
    }
  ],
  "metadata": {
    "colab": {
      "provenance": [],
      "include_colab_link": true
    },
    "kernelspec": {
      "display_name": "Python 3",
      "name": "python3"
    }
  },
  "nbformat": 4,
  "nbformat_minor": 0
}