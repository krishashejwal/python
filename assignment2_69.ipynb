{
  "nbformat": 4,
  "nbformat_minor": 0,
  "metadata": {
    "colab": {
      "provenance": [],
      "authorship_tag": "ABX9TyMRfACR0y+3rzMD5UrnR8tS",
      "include_colab_link": true
    },
    "kernelspec": {
      "name": "python3",
      "display_name": "Python 3"
    },
    "language_info": {
      "name": "python"
    }
  },
  "cells": [
    {
      "cell_type": "markdown",
      "metadata": {
        "id": "view-in-github",
        "colab_type": "text"
      },
      "source": [
        "<a href=\"https://colab.research.google.com/github/krishashejwal/python/blob/main/assignment2_69.ipynb\" target=\"_parent\"><img src=\"https://colab.research.google.com/assets/colab-badge.svg\" alt=\"Open In Colab\"/></a>"
      ]
    },
    {
      "cell_type": "code",
      "execution_count": 1,
      "metadata": {
        "colab": {
          "base_uri": "https://localhost:8080/"
        },
        "id": "d4k4wim8UIya",
        "outputId": "2dfe0143-0d5d-4d10-dcfb-ab68649fb936"
      },
      "outputs": [
        {
          "output_type": "stream",
          "name": "stdout",
          "text": [
            "[('2025-02-10 15:45:32', 'Net_Module', 'Connection timeout from 192.168.1.10'), ('2025-02-10 17:12:05', 'Security_Module', 'Unauthorized access detected from 10.0.0.5'), ('2025-02-10 19:00:00', 'Net_Module', 'Connection lost from 256.100.10.10')]\n"
          ]
        }
      ],
      "source": [
        "import re\n",
        "\n",
        "def extract_critical_errors(log_data: str) -> list[tuple]:\n",
        "    # Adjusting the regular expression to properly match the error log format\n",
        "    pattern = (\n",
        "        r'\\[([\\d-]+ [\\d:]+)\\] \\[ERROR\\] \\[([a-zA-Z0-9_]+)\\] '  # Date, log level, and module\n",
        "        r'(.*?(\\d{1,3}\\.){3}\\d{1,3})'  # Match IP address\n",
        "        r'.*?0x[0-9A-Fa-f]{8}.*'  # Match error code (0x followed by 8 hexadecimal digits)\n",
        "    )\n",
        "\n",
        "    # Find all matches using the pattern\n",
        "    matches = re.findall(pattern, log_data)\n",
        "\n",
        "    # Return matches in the format we need\n",
        "    return [(match[0], match[1], match[2]) for match in matches]\n",
        "\n",
        "# Sample log data\n",
        "log_data = \"\"\"[2025-02-10 15:45:32] [ERROR] [Net_Module] Connection timeout from 192.168.1.10. Error Code: 0xAB12CD34\n",
        "[2025-02-10 17:12:05] [ERROR] [Security_Module] Unauthorized access detected from 10.0.0.5. Error Code: 0xDEADBEEF\n",
        "[2025-02-10 18:30:12] [WARNING] [Other_Module] Non-critical issue detected.\n",
        "[2025-02-10 19:00:00] [ERROR] [Net_Module] Connection lost from 256.100.10.10. Error Code: 0x12345678\"\"\"\n",
        "\n",
        "# Extracting critical errors\n",
        "critical_errors = extract_critical_errors(log_data)\n",
        "\n",
        "# Printing the extracted critical errors\n",
        "print(critical_errors)\n"
      ]
    }
  ]
}